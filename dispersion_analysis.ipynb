{
 "cells": [
  {
   "cell_type": "code",
   "execution_count": null,
   "id": "6f4fd524",
   "metadata": {},
   "outputs": [
    {
     "name": "stdout",
     "output_type": "stream",
     "text": [
      "                  date  temperature  pressure       110  stdev [110]  \\\n",
      "0  2021-08-01 11:00:00     7.881500    1013.8  2.615169          0.0   \n",
      "1  2021-08-01 12:00:00    10.581500    1014.4  3.873074          0.0   \n",
      "2  2021-08-01 13:00:00    12.931500    1015.1  3.907070          0.0   \n",
      "3  2021-08-01 14:00:00    15.381500    1015.4  4.701522          0.0   \n",
      "4  2021-08-01 15:00:00    17.481499    1015.7  5.883127          0.0   \n",
      "\n",
      "   direction [110]       320  stdev [320]  direction [320]        500  ...  \\\n",
      "0       318.012880  2.710020          0.0       318.012850  13.943045  ...   \n",
      "1       342.474330  3.821945          0.0       341.564940  11.148559  ...   \n",
      "2         5.710507  3.848395          0.0         6.008918   7.342351  ...   \n",
      "3       352.875060  4.672232          0.0       352.568700   7.986455  ...   \n",
      "4       352.405430  5.927782          0.0       350.217650   9.518796  ...   \n",
      "\n",
      "   direction [15800]     17700  stdev [17700]  direction [17700]     19300  \\\n",
      "0          302.61923  8.297766            0.0         321.340150  5.223913   \n",
      "1          305.53775  4.717123            0.0         344.054530  4.097974   \n",
      "2          306.86996  5.223913            0.0         352.875060  3.941306   \n",
      "3          311.63345  5.973774            0.0          12.528798  4.097974   \n",
      "4          306.86996  5.573848            0.0          54.462240  2.897706   \n",
      "\n",
      "   stdev [19300]  direction [19300]      22000  stdev [22000]  \\\n",
      "0            0.0          262.87510   7.802311            0.0   \n",
      "1            0.0          288.43503  12.379005            0.0   \n",
      "2            0.0          279.46225  12.225433            0.0   \n",
      "3            0.0          288.43503  10.467898            0.0   \n",
      "4            0.0          296.56497  11.072118            0.0   \n",
      "\n",
      "   direction [22000]  \n",
      "0           41.63345  \n",
      "1           47.12111  \n",
      "2           57.99466  \n",
      "3           68.19853  \n",
      "4           69.44387  \n",
      "\n",
      "[5 rows x 60 columns]\n",
      "(1085, 60)\n",
      "Index(['date', 'temperature', 'pressure', '110', 'stdev [110]',\n",
      "       'direction [110]', '320', 'stdev [320]', 'direction [320]', '500',\n",
      "       'stdev [500]', 'direction [500]', '800', 'stdev [800]',\n",
      "       'direction [800]', '1000', 'stdev [1000]', 'direction [1000]', '1500',\n",
      "       'stdev [1500]', 'direction [1500]', '1900', 'stdev [1900]',\n",
      "       'direction [1900]', '3200', 'stdev [3200]', 'direction [3200]', '4200',\n",
      "       'stdev [4200]', 'direction [4200]', '5600', 'stdev [5600]',\n",
      "       'direction [5600]', '7200', 'stdev [7200]', 'direction [7200]', '9200',\n",
      "       'stdev [9200]', 'direction [9200]', '10400', 'stdev [10400]',\n",
      "       'direction [10400]', '11800', 'stdev [11800]', 'direction [11800]',\n",
      "       '13500', 'stdev [13500]', 'direction [13500]', '15800', 'stdev [15800]',\n",
      "       'direction [15800]', '17700', 'stdev [17700]', 'direction [17700]',\n",
      "       '19300', 'stdev [19300]', 'direction [19300]', '22000', 'stdev [22000]',\n",
      "       'direction [22000]'],\n",
      "      dtype='object')\n"
     ]
    }
   ],
   "source": [
    "import pandas as pd\n",
    "import numpy as np\n",
    "import matplotlib.pyplot as plt\n",
    "import seaborn as sns\n",
    "from scipy import stats\n",
    "from datetime import datetime\n",
    "\n",
    "df = pd.read_csv(r'c:\\Users\\patri\\Downloads\\sim_parameters_historical_combined.csv')\n",
    "\n",
    "print(df.head())\n",
    "print(df.shape)\n",
    "print(df.columns)"
   ]
  }
 ],
 "metadata": {
  "kernelspec": {
   "display_name": "Python 3",
   "language": "python",
   "name": "python3"
  },
  "language_info": {
   "codemirror_mode": {
    "name": "ipython",
    "version": 3
   },
   "file_extension": ".py",
   "mimetype": "text/x-python",
   "name": "python",
   "nbconvert_exporter": "python",
   "pygments_lexer": "ipython3",
   "version": "3.13.7"
  }
 },
 "nbformat": 4,
 "nbformat_minor": 5
}
